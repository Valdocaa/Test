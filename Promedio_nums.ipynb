{
  "nbformat": 4,
  "nbformat_minor": 0,
  "metadata": {
    "colab": {
      "provenance": [],
      "authorship_tag": "ABX9TyOTpkvLn8xHXo2XOWoR5gy4",
      "include_colab_link": true
    },
    "kernelspec": {
      "name": "python3",
      "display_name": "Python 3"
    },
    "language_info": {
      "name": "python"
    }
  },
  "cells": [
    {
      "cell_type": "markdown",
      "metadata": {
        "id": "view-in-github",
        "colab_type": "text"
      },
      "source": [
        "<a href=\"https://colab.research.google.com/github/Valdocaa/Test/blob/main/Promedio_nums.ipynb\" target=\"_parent\"><img src=\"https://colab.research.google.com/assets/colab-badge.svg\" alt=\"Open In Colab\"/></a>"
      ]
    },
    {
      "cell_type": "markdown",
      "source": [
        "En este ejemplo vamos a promediar una lista de numeros entrados por el teclado"
      ],
      "metadata": {
        "id": "4duGsC9r6qnp"
      }
    },
    {
      "cell_type": "code",
      "execution_count": null,
      "metadata": {
        "id": "VJtMTDxk4oOi",
        "colab": {
          "base_uri": "https://localhost:8080/"
        },
        "outputId": "f2a8a966-0625-4c36-9478-16089a59b6af"
      },
      "outputs": [
        {
          "output_type": "stream",
          "name": "stdout",
          "text": [
            "Dime cuantos numeros quieres promediar:  5\n",
            "dame el numero 1a promediar: 2\n",
            "dame el numero 2a promediar: 1\n",
            "dame el numero 3a promediar: 4\n",
            "dame el numero 4a promediar: 3\n",
            "dame el numero 5a promediar: 2\n",
            "El promedio fue de  2.4\n"
          ]
        }
      ],
      "source": [
        "nums= input(\"Dime cuantos numeros quieres promediar:  \")\n",
        "nums= int(nums)\n",
        "suma=0\n",
        "\n",
        "for x in range(nums):\n",
        "  numero= input (\"dame el numero \" + str(x+1)+ \"a promediar: \")\n",
        "  numero= int (numero)\n",
        "  suma= suma + numero\n",
        "\n",
        "prom= suma/nums\n",
        "print(\"El promedio fue de \", prom)"
      ]
    }
  ]
}